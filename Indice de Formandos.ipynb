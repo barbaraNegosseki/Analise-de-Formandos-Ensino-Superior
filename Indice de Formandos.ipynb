{
 "cells": [
  {
   "cell_type": "markdown",
   "metadata": {},
   "source": [
    "# Trabalho de Estrutura de Dados - Análise de dados utilizando Pandas"
   ]
  },
  {
   "cell_type": "markdown",
   "metadata": {},
   "source": [
    "## Índices de Concluintes na Faculdade de Acordo com Sexo ao passar dos Anos\n",
    "---\n",
    "\n",
    "Com base nos doscumentos criados pelo INEP, será feita uma análise dos concluintes e comparados os números de quantos homens e mulheres se formaram na faculdade, e como esse número se alterou com o passar dos anos.\n"
   ]
  },
  {
   "cell_type": "code",
   "execution_count": 82,
   "metadata": {},
   "outputs": [],
   "source": [
    "import pandas as pd\n",
    "import seaborn as sb\n",
    "import matplotlib.pyplot as plt\n",
    "low_memory=False\n",
    "%matplotlib inline\n",
    "DADOS_FEM = pd.read_csv('d_fem.csv', delimiter=';',header=0,encoding='utf-8')\n",
    "DADOS_MASC = pd.read_csv('d_masc.csv', delimiter=';',header=0,encoding='utf-8')"
   ]
  },
  {
   "cell_type": "markdown",
   "metadata": {},
   "source": [
    "---\n",
    "### Data Base - INEP\n",
    "\n",
    "A data base deste trabalho foi obtida diretamente do site do INEP(Instuto Nacional de Estudos e Pesquisas Educacionais Anísio  Teixera) - http://inep.gov.br/inep-data), dentro do site, na parte inferior, foi utilizado a opção de educação superior, onde foi aberto o repositório do oracle que me deu a opção de exportar um csv com as informações necessárias para análise, relacionamos os seguintes tópicos:\n",
    "\n",
    "#### Data de Conclusão de Curso de Acordo com o Ano e Com o Sexo do Aluno\n",
    "\n",
    "Era desejado encontrar o número de alunos que concluiram o curso superior durante os anos de 2009 até 2017, de acordo com o seu sexo. Haverá um gráfico relacionado ano e número de alunos concluintes, e outro relacionado número de concluintes com sexo. Sendo assim possível ver quantos homens e mulheres se formaram no ensino superior, e como esse número foi se alterando com o passar dos anos.\n"
   ]
  },
  {
   "cell_type": "code",
   "execution_count": 72,
   "metadata": {
    "scrolled": true
   },
   "outputs": [
    {
     "data": {
      "text/html": [
       "<div>\n",
       "<style scoped>\n",
       "    .dataframe tbody tr th:only-of-type {\n",
       "        vertical-align: middle;\n",
       "    }\n",
       "\n",
       "    .dataframe tbody tr th {\n",
       "        vertical-align: top;\n",
       "    }\n",
       "\n",
       "    .dataframe thead th {\n",
       "        text-align: right;\n",
       "    }\n",
       "</style>\n",
       "<table border=\"1\" class=\"dataframe\">\n",
       "  <thead>\n",
       "    <tr style=\"text-align: right;\">\n",
       "      <th></th>\n",
       "      <th>total_alunos_masc</th>\n",
       "      <th>ano_masc</th>\n",
       "    </tr>\n",
       "  </thead>\n",
       "  <tbody>\n",
       "    <tr>\n",
       "      <th>0</th>\n",
       "      <td>61155</td>\n",
       "      <td>2017</td>\n",
       "    </tr>\n",
       "    <tr>\n",
       "      <th>1</th>\n",
       "      <td>53008</td>\n",
       "      <td>2016</td>\n",
       "    </tr>\n",
       "    <tr>\n",
       "      <th>2</th>\n",
       "      <td>50622</td>\n",
       "      <td>2015</td>\n",
       "    </tr>\n",
       "    <tr>\n",
       "      <th>3</th>\n",
       "      <td>46761</td>\n",
       "      <td>2014</td>\n",
       "    </tr>\n",
       "    <tr>\n",
       "      <th>4</th>\n",
       "      <td>46761</td>\n",
       "      <td>2013</td>\n",
       "    </tr>\n",
       "    <tr>\n",
       "      <th>6</th>\n",
       "      <td>44474</td>\n",
       "      <td>2011</td>\n",
       "    </tr>\n",
       "    <tr>\n",
       "      <th>5</th>\n",
       "      <td>43268</td>\n",
       "      <td>2012</td>\n",
       "    </tr>\n",
       "    <tr>\n",
       "      <th>8</th>\n",
       "      <td>42709</td>\n",
       "      <td>2009</td>\n",
       "    </tr>\n",
       "  </tbody>\n",
       "</table>\n",
       "</div>"
      ],
      "text/plain": [
       "   total_alunos_masc  ano_masc\n",
       "0              61155      2017\n",
       "1              53008      2016\n",
       "2              50622      2015\n",
       "3              46761      2014\n",
       "4              46761      2013\n",
       "6              44474      2011\n",
       "5              43268      2012\n",
       "8              42709      2009"
      ]
     },
     "execution_count": 72,
     "metadata": {},
     "output_type": "execute_result"
    }
   ],
   "source": [
    "# Aqui demonstramos os dados lidos pela biblioteca Pandas, substituimos as células em branco(NaN) por 0.\n",
    "DADOS_MASC = DADOS_MASC.fillna('0')\n",
    "# Realizamos uma ordenação de acordo com a coluna \"9999\" que representa o último indice mensurado, do maior para o menor.\n",
    "DADOS_MASC.sort_values(by=['total_alunos_masc'],ascending=False).head(8)"
   ]
  },
  {
   "cell_type": "markdown",
   "metadata": {},
   "source": [
    "### Homens que concluíram o ensino superior em uma faculdade pública e presencial durante os anos de 2009 até 2017\n",
    "\n",
    "É possível observar que houve um crescimento significativo no número de concluintes de ensino superior quando se trata de homens. Com isso é possível concluir que houve um significativo interesse maior da população do Brasil em conseguir o seu diploma de ensino superior.\n"
   ]
  },
  {
   "cell_type": "code",
   "execution_count": 83,
   "metadata": {},
   "outputs": [
    {
     "data": {
      "image/png": "[encoded data removed]",
      "text/plain": [
       "<Figure size 432x288 with 1 Axes>"
      ]
     },
     "metadata": {
      "needs_background": "light"
     },
     "output_type": "display_data"
    }
   ],
   "source": [
    "dadosAlunosMasc = DADOS_MASC['total_alunos_masc']\n",
    "dadosAnoMasc = DADOS_MASC['ano_masc']\n",
    "plt.plot((dadosAnoMasc),(dadosAlunosMasc))\n",
    "plt.ylabel('Número de Concluintes')\n",
    "plt.xlabel('Anos')\n",
    "plt.show()"
   ]
  },
  {
   "cell_type": "code",
   "execution_count": 56,
   "metadata": {},
   "outputs": [
    {
     "data": {
      "text/html": [
       "<div>\n",
       "<style scoped>\n",
       "    .dataframe tbody tr th:only-of-type {\n",
       "        vertical-align: middle;\n",
       "    }\n",
       "\n",
       "    .dataframe tbody tr th {\n",
       "        vertical-align: top;\n",
       "    }\n",
       "\n",
       "    .dataframe thead th {\n",
       "        text-align: right;\n",
       "    }\n",
       "</style>\n",
       "<table border=\"1\" class=\"dataframe\">\n",
       "  <thead>\n",
       "    <tr style=\"text-align: right;\">\n",
       "      <th></th>\n",
       "      <th>total_alunos_fem</th>\n",
       "      <th>ano_fem</th>\n",
       "    </tr>\n",
       "  </thead>\n",
       "  <tbody>\n",
       "    <tr>\n",
       "      <th>7</th>\n",
       "      <td>88544</td>\n",
       "      <td>2010</td>\n",
       "    </tr>\n",
       "    <tr>\n",
       "      <th>0</th>\n",
       "      <td>81615</td>\n",
       "      <td>2017</td>\n",
       "    </tr>\n",
       "    <tr>\n",
       "      <th>1</th>\n",
       "      <td>78764</td>\n",
       "      <td>2016</td>\n",
       "    </tr>\n",
       "    <tr>\n",
       "      <th>2</th>\n",
       "      <td>71593</td>\n",
       "      <td>2015</td>\n",
       "    </tr>\n",
       "    <tr>\n",
       "      <th>3</th>\n",
       "      <td>69366</td>\n",
       "      <td>2014</td>\n",
       "    </tr>\n",
       "    <tr>\n",
       "      <th>4</th>\n",
       "      <td>61031</td>\n",
       "      <td>2013</td>\n",
       "    </tr>\n",
       "    <tr>\n",
       "      <th>6</th>\n",
       "      <td>53909</td>\n",
       "      <td>2011</td>\n",
       "    </tr>\n",
       "    <tr>\n",
       "      <th>5</th>\n",
       "      <td>53002</td>\n",
       "      <td>2012</td>\n",
       "    </tr>\n",
       "  </tbody>\n",
       "</table>\n",
       "</div>"
      ],
      "text/plain": [
       "   total_alunos_fem  ano_fem\n",
       "7             88544     2010\n",
       "0             81615     2017\n",
       "1             78764     2016\n",
       "2             71593     2015\n",
       "3             69366     2014\n",
       "4             61031     2013\n",
       "6             53909     2011\n",
       "5             53002     2012"
      ]
     },
     "execution_count": 56,
     "metadata": {},
     "output_type": "execute_result"
    }
   ],
   "source": [
    "# Aqui demonstramos os dados lidos pela biblioteca Pandas, substituimos as células em branco(NaN) por 0.\n",
    "DADOS_FEM = DADOS_FEM.fillna('0')\n",
    "# Realizamos uma ordenação de acordo com a coluna \"9999\" que representa o último indice mensurado, do maior para o menor.\n",
    "DADOS_FEM.sort_values(by=['total_alunos_fem'],ascending=False).head(8)"
   ]
  },
  {
   "cell_type": "markdown",
   "metadata": {},
   "source": [
    "### Mulheres que concluíram o ensino superior em uma faculdade pública e presencial durante os anos de 2009 até 2017\n",
    "\n",
    "É possível observar que houve um crescimento alarmante no número de concluintes de ensino superior quando se trata de mulheres, quase dobrando o número quando chega em 2017. Com isso é possível concluir que houve um significativo interesse maior da população do Brasil em conseguir o seu diploma de ensino superior.\n"
   ]
  },
  {
   "cell_type": "code",
   "execution_count": 84,
   "metadata": {
    "scrolled": false
   },
   "outputs": [
    {
     "data": {
      "image/png": "[encoded data removed]",
      "text/plain": [
       "<Figure size 432x288 with 1 Axes>"
      ]
     },
     "metadata": {
      "needs_background": "light"
     },
     "output_type": "display_data"
    }
   ],
   "source": [
    "dadosAlunosFem = DADOS_FEM['total_alunos_fem']\n",
    "dadosAnoFem = DADOS_FEM['ano_fem']\n",
    "plt.plot((dadosAnoFem),(dadosAlunosFem))\n",
    "plt.ylabel('Número de Concluintes')\n",
    "plt.xlabel('Anos')\n",
    "plt.show()"
   ]
  },
  {
   "cell_type": "code",
   "execution_count": null,
   "metadata": {},
   "outputs": [],
   "source": []
  }
 ],
 "metadata": {
  "kernelspec": {
   "display_name": "Python 3",
   "language": "python",
   "name": "python3"
  },
  "language_info": {
   "codemirror_mode": {
    "name": "ipython",
    "version": 3
   },
   "file_extension": ".py",
   "mimetype": "text/x-python",
   "name": "python",
   "nbconvert_exporter": "python",
   "pygments_lexer": "ipython3",
   "version": "3.7.4"
  }
 },
 "nbformat": 4,
 "nbformat_minor": 2
}
